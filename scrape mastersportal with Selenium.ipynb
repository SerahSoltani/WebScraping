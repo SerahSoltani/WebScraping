{
 "cells": [
  {
   "metadata": {
    "ExecuteTime": {
     "end_time": "2025-05-24T23:35:46.290806Z",
     "start_time": "2025-05-24T23:34:41.964160Z"
    }
   },
   "cell_type": "code",
   "source": [
    "import undetected_chromedriver as uc\n",
    "from selenium.webdriver.common.by import By\n",
    "from selenium.webdriver.common.keys import Keys\n",
    "import pandas as pd\n",
    "import time\n",
    "\n",
    "options = uc.ChromeOptions()\n",
    "# Optional: mimic real user behavior\n",
    "options.add_argument('--no-sandbox')\n",
    "options.add_argument('--disable-blink-features=AutomationControlled')\n",
    "options.add_argument('--disable-dev-shm-usage')\n",
    "\n",
    "driver = uc.Chrome(options=options)\n",
    "driver.get(\"https://www.mastersportal.com/\")\n",
    "\n",
    "time.sleep(5)\n",
    "\n",
    "# Perform search\n",
    "what_search = driver.find_element(By.ID,\"HomeWhat\")\n",
    "what_search.send_keys(\"Computer Science\")\n",
    "what_search.send_keys(Keys.ENTER)\n",
    "\n",
    "where_search = driver.find_element(By.ID,\"HomeWhere\")\n",
    "where_search.send_keys(\"Germany\")\n",
    "where_search.send_keys(Keys.ENTER)\n",
    "\n",
    "time.sleep(10)\n",
    "\n",
    "data = []\n",
    "cols = [\"title\", \"University\", \"DegreeInfo\", \"Fees\" ]\n",
    "title = driver.find_elements(By.CLASS_NAME, \"StudyName\")\n",
    "University = driver.find_elements(By.CLASS_NAME, \"OrganisationName\")\n",
    "DegreeInfo = driver.find_elements(By.CLASS_NAME, \"SecondaryFacts\")\n",
    "Fees = driver.find_elements(By.CLASS_NAME, \"TuitionValue\")\n",
    "\n",
    "for (title, university, degreeInfo, fees) in zip(title, University, DegreeInfo, Fees):\n",
    "    data.append((title.text, university.text, degreeInfo.text, fees.text))\n",
    "\n",
    "\n",
    "driver.quit()\n",
    "\n",
    "df = pd.DataFrame(data, columns=cols)\n",
    "df.to_csv(\"data.csv\", index=False)\n"
   ],
   "id": "ff757ef5cd31cfa",
   "outputs": [],
   "execution_count": 37
  },
  {
   "metadata": {
    "ExecuteTime": {
     "end_time": "2025-05-25T13:44:25.515593Z",
     "start_time": "2025-05-25T13:37:44.046040Z"
    }
   },
   "cell_type": "code",
   "source": [
    "import undetected_chromedriver as uc\n",
    "from selenium.webdriver.common.by import By\n",
    "from selenium.webdriver.common.keys import Keys\n",
    "import pandas as pd\n",
    "import time\n",
    "\n",
    "# Configure Chrome options\n",
    "options = uc.ChromeOptions()\n",
    "options.add_argument('--no-sandbox')\n",
    "options.add_argument('--disable-blink-features=AutomationControlled')\n",
    "options.add_argument('--disable-dev-shm-usage')\n",
    "\n",
    "# Initialize the WebDriver\n",
    "driver = uc.Chrome(options=options)\n",
    "driver.get(\"https://www.mastersportal.com/\")\n",
    "\n",
    "time.sleep(5)\n",
    "\n",
    "# Perform search\n",
    "what_search = driver.find_element(By.ID, \"HomeWhat\")\n",
    "what_search.send_keys(\"Computer Science\")\n",
    "what_search.send_keys(Keys.ENTER)\n",
    "\n",
    "where_search = driver.find_element(By.ID, \"HomeWhere\")\n",
    "where_search.send_keys(\"Germany\")\n",
    "where_search.send_keys(Keys.ENTER)\n",
    "\n",
    "time.sleep(10)\n",
    "\n",
    "# Final data list\n",
    "data = []\n",
    "cols = [\"title\", \"University\", \"Degree\", \"Fees\"]\n",
    "\n",
    "# Pagination loop\n",
    "while True:\n",
    "    time.sleep(5)  # Wait for page to load\n",
    "\n",
    "    # Extract current page data\n",
    "    titles = driver.find_elements(By.CLASS_NAME, \"StudyName\")\n",
    "    universities = driver.find_elements(By.CLASS_NAME, \"OrganisationName\")\n",
    "    degrees = driver.find_elements(By.CLASS_NAME, \"SecondaryFacts\")\n",
    "    fees = driver.find_elements(By.CLASS_NAME, \"TuitionValue\")\n",
    "\n",
    "    for (t, u, d, f) in zip(titles, universities, degrees, fees):\n",
    "        data.append((t.text, u.text, d.text, f.text))\n",
    "\n",
    "    # Go to next page (if exists)\n",
    "    try:\n",
    "        next_button = driver.find_element(By.CLASS_NAME, \"NextButton\")\n",
    "        next_button.click()\n",
    "    except:\n",
    "        print(\"No next page found or available.\")\n",
    "        break\n",
    "\n",
    "driver.quit()\n",
    "\n",
    "# Save to CSV\n",
    "df = pd.DataFrame(data, columns=cols)\n",
    "df.to_csv(\"masters_data.csv\", index=False)\n",
    "print(\"✅ File saved successfully.\")"
   ],
   "id": "78b200b19b00af9f",
   "outputs": [
    {
     "name": "stdout",
     "output_type": "stream",
     "text": [
      "No next page found or available.\n",
      "✅ File saved successfully.\n"
     ]
    }
   ],
   "execution_count": 1
  },
  {
   "metadata": {},
   "cell_type": "code",
   "outputs": [],
   "execution_count": null,
   "source": "",
   "id": "2b9e14d1b1b9b0ef"
  }
 ],
 "metadata": {
  "kernelspec": {
   "display_name": "Python 3",
   "language": "python",
   "name": "python3"
  },
  "language_info": {
   "codemirror_mode": {
    "name": "ipython",
    "version": 2
   },
   "file_extension": ".py",
   "mimetype": "text/x-python",
   "name": "python",
   "nbconvert_exporter": "python",
   "pygments_lexer": "ipython2",
   "version": "2.7.6"
  }
 },
 "nbformat": 4,
 "nbformat_minor": 5
}
